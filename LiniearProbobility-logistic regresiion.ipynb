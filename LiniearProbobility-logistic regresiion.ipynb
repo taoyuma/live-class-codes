{
 "cells": [
  {
   "cell_type": "code",
   "execution_count": null,
   "id": "4d175239-c808-4008-9f91-feee0ba592f9",
   "metadata": {},
   "outputs": [],
   "source": [
    "import numpy as np\n",
    "import pandas as pd\n",
    "import matplotlib.pyplot as plt"
   ]
  },
  {
   "cell_type": "code",
   "execution_count": null,
   "id": "570f3661-d73c-4a40-8d38-62d959692258",
   "metadata": {},
   "outputs": [],
   "source": [
    "# https://www.statsmodels.org/stable/index.html\n",
    "import statsmodels.api as sm"
   ]
  },
  {
   "cell_type": "code",
   "execution_count": null,
   "id": "7b5209a3-a5b8-4590-a0d4-140263f18291",
   "metadata": {},
   "outputs": [],
   "source": [
    "import warnings\n",
    "warnings.filterwarnings(\"ignore\")"
   ]
  },
  {
   "cell_type": "code",
   "execution_count": null,
   "id": "d0ef9b35-70a6-458d-b2c6-e6e8e4bcc965",
   "metadata": {},
   "outputs": [],
   "source": [
    "from functools import partial"
   ]
  },
  {
   "cell_type": "code",
   "execution_count": null,
   "id": "7bb09297-5838-41e8-8b1d-3753e48899c5",
   "metadata": {},
   "outputs": [],
   "source": [
    "from dotenv import load_dotenv\n",
    "\n",
    "from pathlib import Path\n",
    "\n",
    "env_path = Path(\"../../.env-live\")\n",
    "\n",
    "if env_path.exists():\n",
    "    print('envs Loaded')\n",
    "    load_dotenv(dotenv_path=env_path)\n",
    "from jrjModelRegistry.jrjModelRegistry import registerAJrjModel"
   ]
  },
  {
   "cell_type": "code",
   "execution_count": null,
   "id": "0d961600-947d-4e3e-8c40-8f6b66d3e762",
   "metadata": {},
   "outputs": [],
   "source": [
    "def generalRegressionPredictor(self, transformedData):\n",
    "    return self.predict(transformedData)"
   ]
  },
  {
   "cell_type": "code",
   "execution_count": null,
   "id": "afe9f0d8-20cf-42c6-99fb-8986200c3f83",
   "metadata": {},
   "outputs": [],
   "source": [
    "mortgageDf = pd.read_excel(\"./Mortgage.xlsx\")\n",
    "# mortgageDf = pd.read_excel(\"https://www.dropbox.com/scl/fi/32vgpt3jvtztu86avdnwg/Mortgage.xlsx?rlkey=qx1d46hzgn4h67zrcyajdyl3e&dl=1\")\n",
    "mortgageDf"
   ]
  },
  {
   "cell_type": "code",
   "execution_count": null,
   "id": "6a86d7a8-25f6-4072-83d7-dd8e7b5c4363",
   "metadata": {},
   "outputs": [],
   "source": [
    "mortgageSampleData = {\n",
    "    \"x1\": [16.35, 20, 20, 40],\n",
    "    \"x2\": [49.94, 30, 15, 50]\n",
    "}\n",
    "mortgageSampleData"
   ]
  },
  {
   "cell_type": "code",
   "execution_count": null,
   "id": "75d47381-a776-4cdd-84bb-ae6882780435",
   "metadata": {},
   "outputs": [],
   "source": [
    "mortgageDf.size"
   ]
  },
  {
   "cell_type": "code",
   "execution_count": null,
   "id": "aafd9ceb-d43b-4292-b981-6b2c19e8a9fc",
   "metadata": {},
   "outputs": [],
   "source": [
    "mortgageDf.describe()"
   ]
  },
  {
   "cell_type": "code",
   "execution_count": null,
   "id": "8612382e-811d-4784-bedd-04f786e5eda3",
   "metadata": {},
   "outputs": [],
   "source": [
    "mortgageDf.shape"
   ]
  },
  {
   "cell_type": "code",
   "execution_count": null,
   "id": "e218f041-9ed1-4fff-8b72-946ca2e96a4e",
   "metadata": {},
   "outputs": [],
   "source": [
    "import matplotlib.pyplot as plt"
   ]
  },
  {
   "cell_type": "code",
   "execution_count": null,
   "id": "128d0af6-178b-48fb-8dfa-eedbea483161",
   "metadata": {},
   "outputs": [],
   "source": [
    "# Plotting\n",
    "fig1 = plt.figure(\n",
    "  figsize=(8, 8)\n",
    ")"
   ]
  },
  {
   "cell_type": "code",
   "execution_count": null,
   "id": "0eeb70c9-58e3-42c2-8eec-206536cf38df",
   "metadata": {},
   "outputs": [],
   "source": [
    "plt.scatter(\n",
    "  mortgageDf[\"x1\"],\n",
    "  mortgageDf[\"y\"],\n",
    "  color='blue',\n",
    "  alpha=0.9,\n",
    "  label='Data Points - scatter',\n",
    ")\n",
    "\n",
    "plt.xlabel('x1')\n",
    "plt.ylabel('y')\n",
    "plt.legend()\n",
    "plt.grid(True)\n",
    "\n",
    "\n",
    "\n",
    "plt.show()"
   ]
  },
  {
   "cell_type": "code",
   "execution_count": null,
   "id": "fea60239-ebed-436e-9360-599d59c62b38",
   "metadata": {},
   "outputs": [],
   "source": [
    "plt.scatter(\n",
    "  mortgageDf[\"x2\"],\n",
    "  mortgageDf[\"y\"],\n",
    "  color='blue',\n",
    "  alpha=0.9,\n",
    "  label='Data Points - scatter',\n",
    ")\n",
    "\n",
    "plt.xlabel('x2')\n",
    "plt.ylabel('y')\n",
    "plt.legend()\n",
    "plt.grid(True)\n",
    "\n",
    "\n",
    "\n",
    "plt.show()"
   ]
  },
  {
   "cell_type": "code",
   "execution_count": null,
   "id": "f8c03506-96ab-409e-a707-da216a1fab37",
   "metadata": {},
   "outputs": [],
   "source": [
    "def mortgageRegModel1Transformer(dataForTransfer = None):\n",
    "    import pandas as pd\n",
    "    import statsmodels.api as sm\n",
    "    if isinstance(dataForTransfer, pd.DataFrame):\n",
    "        df = dataForTransfer.copy()\n",
    "    else:\n",
    "        df = pd.DataFrame(dataForTransfer)\n",
    "    dfTransformer = sm.add_constant(df[[\"x1\", \"x2\"]],has_constant='add')\n",
    "    return dfTransformer"
   ]
  },
  {
   "cell_type": "code",
   "execution_count": null,
   "id": "d77e22a4-e32f-492e-9612-8bfa88968227",
   "metadata": {},
   "outputs": [],
   "source": [
    "mortgageRegModel1 = sm.OLS(\n",
    "  mortgageDf[\"y\"],\n",
    "  mortgageRegModel1Transformer(mortgageDf)\n",
    ").fit() \n",
    "print(mortgageRegModel1.summary())"
   ]
  },
  {
   "cell_type": "code",
   "execution_count": null,
   "id": "8d8bcc94-2758-4b42-b9e5-214d9df1ba21",
   "metadata": {},
   "outputs": [],
   "source": [
    "predict1 = mortgageRegModel1.predict(mortgageRegModel1Transformer(mortgageDf))\n",
    "mortgageDf['predict1'] = predict1\n",
    "mortgageDf"
   ]
  },
  {
   "cell_type": "code",
   "execution_count": null,
   "id": "e0b8ef3f-f19d-4864-b176-e3c83de8f883",
   "metadata": {},
   "outputs": [],
   "source": [
    "mortgageRegModel1.predict(mortgageRegModel1Transformer(mortgageSampleData))"
   ]
  },
  {
   "cell_type": "code",
   "execution_count": null,
   "id": "cff928f2-9709-4258-bead-de1a44de9762",
   "metadata": {},
   "outputs": [],
   "source": [
    "mortgageRegModel1.transformer = mortgageRegModel1Transformer\n",
    "mortgageRegModel1.mainPredictor = partial(generalRegressionPredictor, mortgageRegModel1)\n",
    "registerAJrjModel(\n",
    "    mortgageRegModel1,\n",
    "    {\n",
    "        \"modelName\":f\"taoyu_ma__mortgageRegModel1\",\n",
    "        \"version\":\"1.0.1\",\n",
    "        \"params\": mortgageRegModel1.params.to_dict(),\n",
    "        \"score\": float(mortgageRegModel1.rsquared),\n",
    "        \"modelLibraray\": 'sm.OLS',\n",
    "        \"libraryMetadata\": {\n",
    "            \"pvalues\": mortgageRegModel1.pvalues.to_dict(),\n",
    "            \"r_squared\": float(mortgageRegModel1.rsquared),\n",
    "            \"adj_r_squared\": float(mortgageRegModel1.rsquared_adj)\n",
    "        },\n",
    "    \n",
    "        \"sampleData\": {\n",
    "            \"dataForTransfer\": mortgageSampleData\n",
    "        }\n",
    "    }\n",
    ")"
   ]
  },
  {
   "cell_type": "code",
   "execution_count": null,
   "id": "e35ceed3-f5e2-46eb-982a-545146e83911",
   "metadata": {},
   "outputs": [],
   "source": [
    "mortgageLogRegModel2 = sm.Logit(\n",
    "  mortgageDf[\"y\"],\n",
    "  mortgageRegModel1Transformer(mortgageDf)\n",
    ").fit()\n",
    "print(mortgageLogRegModel2.summary())"
   ]
  },
  {
   "cell_type": "code",
   "execution_count": null,
   "id": "c6f2480f-dcf1-40c4-a25f-0c2b9606ec54",
   "metadata": {},
   "outputs": [],
   "source": [
    "predict2 = mortgageLogRegModel2.predict(mortgageRegModel1Transformer(mortgageDf))\n",
    "mortgageDf['predict2'] = predict2\n",
    "mortgageDf"
   ]
  },
  {
   "cell_type": "code",
   "execution_count": null,
   "id": "36b22363-a7e1-41e2-85c3-0826fae9fd48",
   "metadata": {},
   "outputs": [],
   "source": [
    "mortgageLogRegModel2.predict(mortgageRegModel1Transformer(mortgageSampleData))"
   ]
  },
  {
   "cell_type": "code",
   "execution_count": null,
   "id": "2fdae66f-656b-4b00-8d09-2c071a402907",
   "metadata": {},
   "outputs": [],
   "source": [
    "mortgageLogRegModel2.transformer = mortgageRegModel1Transformer\n",
    "mortgageLogRegModel2.mainPredictor = partial(generalRegressionPredictor, mortgageLogRegModel2)\n",
    "registerAJrjModel(\n",
    "    mortgageLogRegModel2,\n",
    "    {\n",
    "        \"modelName\": \"mortgageLogRegModel2\",\n",
    "        \"version\": \"1.0.1\",\n",
    "        \"params\": mortgageLogRegModel2.params.to_dict(),\n",
    "        \"score\": float(mortgageLogRegModel2.prsquared),  # Pseudo R-squared\n",
    "        \"modelLibrary\": \"statsmodels.api.Logit\",\n",
    "        \"libraryMetadata\": {\n",
    "            \"pvalues\": mortgageLogRegModel2.pvalues.to_dict(),\n",
    "            \"pseudo_r_squared\": float(mortgageLogRegModel2.prsquared),\n",
    "            \"llf\": float(mortgageLogRegModel2.llf),\n",
    "            \"aic\": float(mortgageLogRegModel2.aic),\n",
    "            \"bic\": float(mortgageLogRegModel2.bic)\n",
    "        },\n",
    "        \"sampleData\": {\n",
    "            \"dataForTransfer\": mortgageSampleData\n",
    "        }\n",
    "    }\n",
    ")"
   ]
  },
  {
   "cell_type": "markdown",
   "id": "e018a890-4dd5-453f-a102-2c3d5a25095f",
   "metadata": {},
   "source": [
    "# For Visulization"
   ]
  },
  {
   "cell_type": "code",
   "execution_count": null,
   "id": "ddced570-c6e4-4a74-90ec-597d840dd354",
   "metadata": {},
   "outputs": [],
   "source": [
    "model3 = sm.OLS(\n",
    "  mortgageDf[\"y\"],\n",
    "  sm.add_constant(mortgageDf[[\"x1\"]])\n",
    ")\n",
    "model3Fit = model3.fit()\n",
    "print(model3Fit.summary())"
   ]
  },
  {
   "cell_type": "code",
   "execution_count": null,
   "id": "88f6d54a-bc0e-4285-b8c0-1c475b31cd6f",
   "metadata": {},
   "outputs": [],
   "source": [
    "model4 = sm.Logit(\n",
    "  mortgageDf[\"y\"],\n",
    "  sm.add_constant(mortgageDf[[\"x1\"]])\n",
    ")\n",
    "model4Fit = model4.fit()\n",
    "print(model4Fit.summary())"
   ]
  },
  {
   "cell_type": "code",
   "execution_count": null,
   "id": "da8ff583-8911-4839-8c51-37e890a13a92",
   "metadata": {},
   "outputs": [],
   "source": [
    "min = 0\n",
    "max = mortgageDf[\"x1\"].max() + 10\n",
    "x = np.linspace(min - 5, max + 5, 500)\n",
    "import math\n",
    "lREq = 0.0141 + x *  0.0227\n",
    "logREq = pow(math.e, (-2.2077  + 0.1043 * x))/ (1+ pow(math.e, (-2.2077  + 0.1043 * x)))\n"
   ]
  },
  {
   "cell_type": "code",
   "execution_count": null,
   "id": "4ef1c649-d609-4705-a8c2-0e3550d12709",
   "metadata": {},
   "outputs": [],
   "source": [
    "\n",
    "plt.scatter(\n",
    "  mortgageDf[\"x1\"],\n",
    "  mortgageDf[\"y\"],\n",
    "  color='blue',\n",
    "  alpha=0.9,\n",
    "  label='Data Points - scatter',\n",
    ")\n",
    "\n",
    "plt.plot(\n",
    "  x,\n",
    "  lREq,\n",
    "  color='red',\n",
    "  alpha=0.9,\n",
    "  label='lREq',\n",
    ")\n",
    "\n",
    "plt.plot(\n",
    "  x,\n",
    "  logREq,\n",
    "  color='green',\n",
    "  alpha=0.9,\n",
    "  label='logREq',\n",
    ")\n",
    "\n",
    "plt.xlabel('x1')\n",
    "plt.ylabel('y')\n",
    "plt.legend()\n",
    "plt.grid(True)\n",
    "\n",
    "\n",
    "\n",
    "plt.show()"
   ]
  },
  {
   "cell_type": "code",
   "execution_count": null,
   "id": "34412870-50d2-44ef-877a-55b44376f662",
   "metadata": {},
   "outputs": [],
   "source": [
    "mortgageDf['yHat2'] = mortgageDf['predict2'].apply(lambda x: 1 if x > 0.5 else 0)\n",
    "mortgageDf"
   ]
  },
  {
   "cell_type": "markdown",
   "id": "b8915655-0968-470e-90f2-79a245fd9621",
   "metadata": {},
   "source": [
    "# Hold-out"
   ]
  },
  {
   "cell_type": "code",
   "execution_count": null,
   "id": "4ab102c7-f953-4929-afc0-354d5a927f94",
   "metadata": {},
   "outputs": [],
   "source": [
    "from sklearn.model_selection import train_test_split\n",
    "# Split the data into train and test sets\n",
    "# trainSet, testSet = train_test_split(wagesDf, test_size=0.15, random_state=55)\n",
    "trainSet, testSet = train_test_split(mortgageDf, test_size=0.15)\n",
    "\n",
    "trainSet.head()"
   ]
  },
  {
   "cell_type": "code",
   "execution_count": null,
   "id": "ca2b4763-af21-4879-a9c7-e491a274d9b4",
   "metadata": {},
   "outputs": [],
   "source": [
    "mortgageDf.shape, trainSet.shape, testSet.shape"
   ]
  },
  {
   "cell_type": "code",
   "execution_count": null,
   "id": "d32bb912-e8bf-4c3e-8591-99997c630b5d",
   "metadata": {},
   "outputs": [],
   "source": [
    "modelHoldOut = sm.Logit(\n",
    "  trainSet[\"y\"],\n",
    "  mortgageRegModel1Transformer(trainSet)\n",
    ")\n",
    "modelHoldOutFit = modelHoldOut.fit()\n",
    "print(modelHoldOutFit.summary())"
   ]
  },
  {
   "cell_type": "code",
   "execution_count": null,
   "id": "987416e5-dc78-44a3-bfb6-d159d3756602",
   "metadata": {},
   "outputs": [],
   "source": [
    "predictHoldOut = modelHoldOutFit.predict(mortgageRegModel1Transformer(testSet))\n",
    "testSet['predictHoldOut'] = predictHoldOut\n",
    "testSet"
   ]
  },
  {
   "cell_type": "code",
   "execution_count": null,
   "id": "eddc3d86-1d25-42db-8b70-43ec1e6e073a",
   "metadata": {},
   "outputs": [],
   "source": [
    "testSet['yHatHoldOut'] = testSet['predictHoldOut'].apply(lambda x: 1 if x > 0.5 else 0)\n",
    "testSet['isHoldOutCorrect'] = testSet.apply(lambda row: 1 if row['y'] == row['yHatHoldOut'] else 0, axis=1)\n",
    "testSet"
   ]
  },
  {
   "cell_type": "code",
   "execution_count": null,
   "id": "98758d80-98dd-4221-b9fc-ea666e47afc9",
   "metadata": {},
   "outputs": [],
   "source": [
    "accuracy = (np.sum(testSet['isHoldOutCorrect']) / len(testSet['yHatHoldOut'])) * 100\n",
    "accuracy"
   ]
  },
  {
   "cell_type": "markdown",
   "id": "892e373a-a3f5-490d-beae-0507930e99bc",
   "metadata": {},
   "source": [
    "# K-Fold Cross validation"
   ]
  },
  {
   "cell_type": "code",
   "execution_count": null,
   "id": "84fe36e4-57e8-4807-b455-009ca07bc9bb",
   "metadata": {},
   "outputs": [],
   "source": [
    "from sklearn.model_selection import KFold"
   ]
  },
  {
   "cell_type": "code",
   "execution_count": null,
   "id": "a10165fd-c36d-4207-8523-afad95c0dc85",
   "metadata": {},
   "outputs": [],
   "source": [
    "# Initialize KFold\n",
    "kf = KFold(n_splits=5, shuffle=True, random_state=55)\n"
   ]
  },
  {
   "cell_type": "code",
   "execution_count": null,
   "id": "b830600a-3210-4ee0-ac5b-9eb27b055bab",
   "metadata": {},
   "outputs": [],
   "source": [
    "check = kf.split(mortgageDf)\n",
    "check\n",
    "experiment = 1\n",
    "# Loop through each fold\n",
    "# Initialize variables to store results\n",
    "accuracies = []\n",
    "bestModel = None\n",
    "bestAccuracy = 0\n",
    "\n",
    "for train_index, val_index in check:\n",
    "    # Split the data\n",
    "    trainSet, valSet = mortgageDf.iloc[train_index], mortgageDf.iloc[val_index]\n",
    "\n",
    "    # Fit the model\n",
    "\n",
    "    trainModel = sm.Logit(\n",
    "      trainSet[\"y\"],\n",
    "      mortgageRegModel1Transformer(trainSet)\n",
    "    )\n",
    "    trainModelFit = trainModel.fit()\n",
    "\n",
    "    # Predict on the validation set\n",
    "    val_predictions = trainModelFit.predict(mortgageRegModel1Transformer(valSet))\n",
    "    valSet['val_predictions'] = val_predictions\n",
    "    valSet['yHatCross'] = valSet['val_predictions'].apply(lambda x: 1 if x > 0.5 else 0)\n",
    "    valSet['isCrossCorrect'] = valSet.apply(lambda row: 1 if row['y'] == row['yHatCross'] else 0, axis=1)\n",
    "    accuracy = (np.sum(valSet['isCrossCorrect']) / len(valSet['yHatCross'])) * 100\n",
    "    accuracies.append(accuracy)\n",
    "\n",
    "    if accuracy > bestAccuracy: \n",
    "        bestAccuracy = accuracy\n",
    "        bestModel = trainModelFit\n",
    "    \n",
    "\n",
    "\n",
    "    # Print summary for each fold (optional)\n",
    "    print(f'expr={experiment}')\n",
    "    experiment = experiment +1\n",
    "    print(trainModelFit.summary())"
   ]
  },
  {
   "cell_type": "code",
   "execution_count": null,
   "id": "7949207c-2bbe-4d18-ad63-cf7604ea330b",
   "metadata": {},
   "outputs": [],
   "source": [
    "accuracies"
   ]
  },
  {
   "cell_type": "code",
   "execution_count": null,
   "id": "3a6467f2-c199-4e54-9385-4703b21a92a6",
   "metadata": {},
   "outputs": [],
   "source": [
    "print(f\"Average accuracies across all folds: {sum(accuracies) /len(accuracies)}\")"
   ]
  },
  {
   "cell_type": "code",
   "execution_count": null,
   "id": "f8cdadfa-82c6-48cd-b4a7-642635546ccf",
   "metadata": {},
   "outputs": [],
   "source": [
    "bestModel.transformer = mortgageRegModel1Transformer\n",
    "bestModel.mainPredictor = partial(generalRegressionPredictor, bestModel)\n",
    "registerAJrjModel(\n",
    "    bestModel,\n",
    "    {\n",
    "        \"modelName\": \"to_predictLogRegModelBestCrossValidation\",\n",
    "        \"version\": \"1.0.1\",\n",
    "        \"params\": bestModel.params.to_dict(),\n",
    "        \"score\": bestAccuracy,  # Pseudo R-squared\n",
    "        \"modelLibrary\": \"statsmodels.api.Logit\",\n",
    "        \"libraryMetadata\": {\n",
    "            \"pvalues\": bestModel.pvalues.to_dict(),\n",
    "            \"pseudo_r_squared\": float(bestModel.prsquared),\n",
    "            \"llf\": float(bestModel.llf),\n",
    "            \"aic\": float(bestModel.aic),\n",
    "            \"bic\": float(bestModel.bic)\n",
    "        },\n",
    "        \"sampleData\": {\n",
    "            \"dataForTransfer\": mortgageSampleData\n",
    "        }\n",
    "    }\n",
    ")"
   ]
  },
  {
   "cell_type": "code",
   "execution_count": null,
   "id": "61e3e6a1-30f1-4dda-a251-f1cbc75aad80",
   "metadata": {},
   "outputs": [],
   "source": []
  }
 ],
 "metadata": {
  "kernelspec": {
   "display_name": "Python 3 (ipykernel)",
   "language": "python",
   "name": "python3"
  },
  "language_info": {
   "codemirror_mode": {
    "name": "ipython",
    "version": 3
   },
   "file_extension": ".py",
   "mimetype": "text/x-python",
   "name": "python",
   "nbconvert_exporter": "python",
   "pygments_lexer": "ipython3",
   "version": "3.13.0"
  }
 },
 "nbformat": 4,
 "nbformat_minor": 5
}
