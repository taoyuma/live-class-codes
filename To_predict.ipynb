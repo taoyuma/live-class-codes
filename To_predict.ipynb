{
 "cells": [
  {
   "cell_type": "code",
   "execution_count": null,
   "metadata": {
    "id": "xwFyEsosINqT"
   },
   "outputs": [],
   "source": [
    "import numpy as np\n",
    "import pandas as pd"
   ]
  },
  {
   "cell_type": "code",
   "execution_count": null,
   "metadata": {
    "id": "pKewSQysItJ-"
   },
   "outputs": [],
   "source": [
    "# https://www.statsmodels.org/stable/index.html\n",
    "import statsmodels.api as sm"
   ]
  },
  {
   "cell_type": "code",
   "execution_count": null,
   "metadata": {},
   "outputs": [],
   "source": [
    "import warnings\n",
    "warnings.filterwarnings(\"ignore\")"
   ]
  },
  {
   "cell_type": "code",
   "execution_count": null,
   "metadata": {},
   "outputs": [],
   "source": [
    "from functools import partial"
   ]
  },
  {
   "cell_type": "code",
   "execution_count": null,
   "metadata": {},
   "outputs": [],
   "source": [
    "from dotenv import load_dotenv\n",
    "\n",
    "from pathlib import Path\n",
    "\n",
    "env_path = Path(\"../../.env-live\")\n",
    "\n",
    "if env_path.exists():\n",
    "    print('envs Loaded')\n",
    "    load_dotenv(dotenv_path=env_path)\n",
    "from jrjModelRegistry.jrjModelRegistry import registerAJrjModel"
   ]
  },
  {
   "cell_type": "code",
   "execution_count": null,
   "metadata": {
    "id": "Lz-DyAtNWsJR"
   },
   "outputs": [],
   "source": [
    "# Download Dataset from https://www.dropbox.com/scl/fi/v7c1c8a3cnncuv1fo28es/Wages.xlsx?rlkey=vli12nwph687hvn9jskgf73a1&st=s862pfm6&dl=1\n",
    "# and add it to colab"
   ]
  },
  {
   "cell_type": "code",
   "execution_count": null,
   "metadata": {
    "id": "0zM8FGMJXJ70"
   },
   "outputs": [],
   "source": [
    "wagesDf = pd.read_excel(\"./Wages.xlsx\")\n",
    "# wagesDf = pd.read_excel(\"https://www.dropbox.com/scl/fi/v7c1c8a3cnncuv1fo28es/Wages.xlsx?rlkey=vli12nwph687hvn9jskgf73a1&st=s862pfm6&dl=1\")"
   ]
  },
  {
   "cell_type": "code",
   "execution_count": null,
   "metadata": {
    "colab": {
     "base_uri": "https://localhost:8080/",
     "height": 423
    },
    "id": "wsIgDGYcXT_z",
    "outputId": "1e9c9629-469e-4396-fc87-b889fad3be7c"
   },
   "outputs": [],
   "source": [
    "wagesDf"
   ]
  },
  {
   "cell_type": "code",
   "execution_count": null,
   "metadata": {
    "colab": {
     "base_uri": "https://localhost:8080/"
    },
    "id": "nw2BHv7PmpVU",
    "outputId": "9ee3724b-4412-4df1-a1d2-8b993e770e51"
   },
   "outputs": [],
   "source": [
    "wagesDf.size"
   ]
  },
  {
   "cell_type": "code",
   "execution_count": null,
   "metadata": {
    "colab": {
     "base_uri": "https://localhost:8080/",
     "height": 300
    },
    "id": "mWaKOoGvmrE8",
    "outputId": "cccdab80-188e-4398-a0da-34bf5f3afff3"
   },
   "outputs": [],
   "source": [
    "wagesDf.describe()"
   ]
  },
  {
   "cell_type": "code",
   "execution_count": null,
   "metadata": {
    "id": "w-fAHOgMmyH5"
   },
   "outputs": [],
   "source": [
    "wagesDf.shape"
   ]
  },
  {
   "cell_type": "code",
   "execution_count": null,
   "metadata": {
    "id": "H15Y1sg61e5Z"
   },
   "outputs": [],
   "source": [
    "import matplotlib.pyplot as plt"
   ]
  },
  {
   "cell_type": "code",
   "execution_count": null,
   "metadata": {
    "colab": {
     "base_uri": "https://localhost:8080/",
     "height": 34
    },
    "id": "-4_3Xd1i1cPa",
    "outputId": "53e38405-41a6-413e-c038-da8ea474a2b6"
   },
   "outputs": [],
   "source": [
    "# Plotting\n",
    "fig1 = plt.figure(\n",
    "  figsize=(8, 8)\n",
    ")"
   ]
  },
  {
   "cell_type": "code",
   "execution_count": null,
   "metadata": {},
   "outputs": [],
   "source": [
    "def wageModel3Transformer(dataForTransfer = None):\n",
    "    import pandas as pd\n",
    "    import statsmodels.api as sm\n",
    "    if isinstance(dataForTransfer, pd.DataFrame):\n",
    "        df = dataForTransfer.copy()\n",
    "    else:\n",
    "        df = pd.DataFrame(dataForTransfer)\n",
    "    df['agePower2'] = df.apply(lambda row: row['Age'] * row['Age'], axis=1)\n",
    "    dfTransformer = sm.add_constant(df[['Age', 'agePower2']],has_constant='add')\n",
    "    return dfTransformer"
   ]
  },
  {
   "cell_type": "code",
   "execution_count": null,
   "metadata": {
    "colab": {
     "base_uri": "https://localhost:8080/",
     "height": 423
    },
    "id": "v4CvzLau4TZ6",
    "outputId": "c0337cca-915f-4593-93f2-408f972075a3"
   },
   "outputs": [],
   "source": [
    "wagesDf['agePower2'] = wageModel3Transformer(wagesDf)['agePower2']\n",
    "wagesDf"
   ]
  },
  {
   "cell_type": "code",
   "execution_count": null,
   "metadata": {
    "id": "d7cn8Io05ebq"
   },
   "outputs": [],
   "source": [
    "wagesDf = wagesDf.sort_values(by=\"Age\")"
   ]
  },
  {
   "cell_type": "code",
   "execution_count": null,
   "metadata": {
    "colab": {
     "base_uri": "https://localhost:8080/"
    },
    "id": "Vr9zmJ7L4lEg",
    "outputId": "53ecd500-d0c3-4c20-c008-ad0969e20890"
   },
   "outputs": [],
   "source": [
    "wageModel3 = sm.OLS(\n",
    "  wagesDf[\"Wage\"],\n",
    "  wageModel3Transformer(wagesDf)\n",
    ")\n",
    "wageModel3Fit = wageModel3.fit()\n",
    "print(wageModel3Fit.summary())"
   ]
  },
  {
   "cell_type": "code",
   "execution_count": null,
   "metadata": {},
   "outputs": [],
   "source": []
  },
  {
   "cell_type": "code",
   "execution_count": null,
   "metadata": {
    "colab": {
     "base_uri": "https://localhost:8080/"
    },
    "id": "hglfZzBecywO",
    "outputId": "5320cfd7-62d5-476f-dbfa-63710bc6d3a1"
   },
   "outputs": [],
   "source": [
    "wageModel3Fit.params"
   ]
  },
  {
   "cell_type": "code",
   "execution_count": null,
   "metadata": {
    "colab": {
     "base_uri": "https://localhost:8080/",
     "height": 423
    },
    "id": "qefCiN4F4yHq",
    "outputId": "17f562cd-50a4-4126-df27-a1756c548fe3"
   },
   "outputs": [],
   "source": [
    "predictedWage3 = wageModel3Fit.predict(wageModel3Transformer(wagesDf))\n",
    "wagesDf['predictedWage3'] = predictedWage3\n",
    "wagesDf"
   ]
  },
  {
   "cell_type": "code",
   "execution_count": null,
   "metadata": {
    "colab": {
     "base_uri": "https://localhost:8080/",
     "height": 718
    },
    "id": "MgtSumSS4v-w",
    "outputId": "647d4e43-4958-4336-ced1-415690966e01"
   },
   "outputs": [],
   "source": [
    "# Plotting\n",
    "plt.figure(\n",
    "  figsize=(8, 8)\n",
    ")\n",
    "\n",
    "plt.scatter(\n",
    "  wagesDf[\"Age\"],\n",
    "  wagesDf[\"Wage\"],\n",
    "  color='blue',\n",
    "  alpha=0.9,\n",
    "  label='Data Points - scatter',\n",
    ")\n",
    "\n",
    "plt.plot(\n",
    "  wagesDf[\"Age\"],\n",
    "  wagesDf[\"predictedWage3\"],\n",
    "  color='green',\n",
    "  label='OLS Regression - predictedWage3'\n",
    ")\n",
    "plt.title('Age. Wage with OLS Regression')\n",
    "plt.xlabel('Age')\n",
    "plt.ylabel('Wage K')\n",
    "plt.legend()\n",
    "plt.grid(True)\n",
    "\n",
    "\n",
    "\n",
    "plt.show()"
   ]
  },
  {
   "cell_type": "code",
   "execution_count": null,
   "metadata": {
    "colab": {
     "base_uri": "https://localhost:8080/",
     "height": 423
    },
    "id": "IdnsnYWW8vW6",
    "outputId": "7688f8f0-35f6-4ee1-a1fb-97cfc9f35c1d"
   },
   "outputs": [],
   "source": [
    "wagesDf"
   ]
  },
  {
   "cell_type": "code",
   "execution_count": null,
   "metadata": {
    "id": "dshYJox1csXb"
   },
   "outputs": [],
   "source": [
    "# Extract coefficients\n",
    "coefficients = wageModel3Fit.params\n",
    "intercept = coefficients['const']\n",
    "slope_age = coefficients['Age']\n",
    "slope_age2 = coefficients['agePower2']"
   ]
  },
  {
   "cell_type": "code",
   "execution_count": null,
   "metadata": {
    "colab": {
     "base_uri": "https://localhost:8080/",
     "height": 581
    },
    "id": "CDDHr3BxZKBi",
    "outputId": "38e4cc5a-3944-4f74-9a1f-ab9f28a688af"
   },
   "outputs": [],
   "source": [
    "\n",
    "\n",
    "# Solve the quadratic equation\n",
    "a = slope_age2\n",
    "b = slope_age\n",
    "c = intercept\n",
    "\n",
    "# Calculate the discriminant\n",
    "discriminant = b**2 - 4*a*c\n",
    "\n",
    "if discriminant >= 0:\n",
    "    root1 = (-b + np.sqrt(discriminant)) / (2*a)\n",
    "    root2 = (-b - np.sqrt(discriminant)) / (2*a)\n",
    "    roots = [root1, root2]\n",
    "else:\n",
    "    roots = []\n",
    "\n",
    "# Plotting the quadratic curve and the roots\n",
    "age_values = np.linspace(-5, 100, 400)\n",
    "wage_predictions = intercept + slope_age * age_values + slope_age2 * (age_values**2)\n",
    "\n",
    "plt.figure(figsize=(10, 6))\n",
    "plt.plot(age_values, wage_predictions, label='Quadratic Fit', color='blue')\n",
    "plt.axhline(0, color='black', linewidth=0.5, linestyle='--')\n",
    "\n",
    "if roots:\n",
    "    for root in roots:\n",
    "        plt.plot(root, 0, 'ro')  # Plot the roots on the curve\n",
    "        plt.annotate(f'Root: {root:.2f}', (root, 0), textcoords=\"offset points\", xytext=(0,10), ha='center')\n",
    "\n",
    "plt.xlabel('Age')\n",
    "plt.ylabel('Predicted Wage')\n",
    "plt.title('Quadratic Fit of Wage vs Age with Roots')\n",
    "plt.legend()\n",
    "plt.grid(True)\n",
    "plt.show()\n",
    "\n",
    "print(f\"The roots of the quadratic equation are: {roots}\")\n"
   ]
  },
  {
   "cell_type": "code",
   "execution_count": null,
   "metadata": {
    "colab": {
     "base_uri": "https://localhost:8080/",
     "height": 581
    },
    "id": "0JTcLXGqez8F",
    "outputId": "214281e8-99de-420f-89d7-3fe6cf3d22dc"
   },
   "outputs": [],
   "source": [
    "\n",
    "\n",
    "# Solve the quadratic equation\n",
    "a = slope_age2\n",
    "b = slope_age\n",
    "c = intercept\n",
    "\n",
    "# Calculate the discriminant\n",
    "discriminant = b**2 - 4*a*c\n",
    "\n",
    "if discriminant >= 0:\n",
    "    root1 = (-b + np.sqrt(discriminant)) / (2*a)\n",
    "    root2 = (-b - np.sqrt(discriminant)) / (2*a)\n",
    "    roots = [root1, root2]\n",
    "else:\n",
    "    roots = []\n",
    "\n",
    "# Plotting the quadratic curve and the roots\n",
    "age_values = np.linspace(-5, 100, 400)\n",
    "wage_predictions = intercept + slope_age * age_values + slope_age2 * (age_values**2)\n",
    "\n",
    "plt.figure(figsize=(10, 6))\n",
    "plt.plot(age_values, wage_predictions, label='Quadratic Fit', color='blue')\n",
    "plt.axhline(0, color='black', linewidth=0.5, linestyle='--')\n",
    "\n",
    "if roots:\n",
    "    for root in roots:\n",
    "        plt.plot(root, 0, 'ro')  # Plot the roots on the curve\n",
    "        plt.annotate(f'Root: {root:.2f}', (root, 0), textcoords=\"offset points\", xytext=(0,10), ha='center')\n",
    "\n",
    "plt.xlabel('Age')\n",
    "plt.ylabel('Predicted Wage')\n",
    "plt.title('Quadratic Fit of Wage vs Age with Roots')\n",
    "plt.legend()\n",
    "\n",
    "# Find the vertex (maximum point for a downward parabola)\n",
    "vertex_age = -b / (2 * a)\n",
    "vertex_wage = intercept + slope_age * vertex_age + slope_age2 * (vertex_age**2)\n",
    "# Plot the maximum point (vertex)\n",
    "plt.plot(vertex_age, vertex_wage, 'go')  # Green dot for the maximum point\n",
    "plt.annotate(f'Max: ({vertex_age:.2f}, {vertex_wage:.2f})', (vertex_age, vertex_wage), textcoords=\"offset points\", xytext=(0,10), ha='center')\n",
    "\n",
    "\n",
    "\n",
    "plt.grid(True)\n",
    "plt.show()\n",
    "\n",
    "print(f\"The roots of the quadratic equation are: {roots}\")"
   ]
  },
  {
   "cell_type": "code",
   "execution_count": null,
   "metadata": {
    "colab": {
     "base_uri": "https://localhost:8080/"
    },
    "id": "jkgIsseinsgt",
    "outputId": "4079e22f-e408-47db-97fc-31162de9a0b3"
   },
   "outputs": [],
   "source": [
    "# SST and SSR \n",
    "# more information https://365datascience.com/tutorials/statistics-tutorials/sum-squares/\n",
    "\n",
    "# Extract observed and predicted values\n",
    "observedValues = wagesDf[\"Wage\"]\n",
    "predictedValues = wageModel3Fit.predict(wageModel3Transformer(wagesDf))\n",
    "\n",
    "# Calculate the mean of observed values\n",
    "mean_observed = np.mean(observedValues)\n",
    "\n",
    "# Calculate SST\n",
    "sst = np.sum((observedValues - mean_observed) ** 2)\n",
    "\n",
    "# Calculate SSR\n",
    "ssr = np.sum((observedValues - predictedValues) ** 2)\n",
    "\n",
    "errors = np.sum(( predictedValues - mean_observed) ** 2)\n",
    "\n",
    "# Calculate R^2\n",
    "r_squared = 1 - (ssr / sst)\n",
    "r_squared2 = errors / sst\n",
    "\n",
    "print(f\"SST: {sst}\")\n",
    "print(f\"SSR: {ssr}\")\n",
    "print(f\"R^2: {r_squared}\")\n",
    "print(f\"R^2_2: {r_squared2}\")"
   ]
  },
  {
   "cell_type": "code",
   "execution_count": null,
   "metadata": {
    "colab": {
     "base_uri": "https://localhost:8080/"
    },
    "id": "m7wewN-AwQYh",
    "outputId": "60dcfa40-7dd4-42d3-d8fa-437a02ca83b7"
   },
   "outputs": [],
   "source": [
    "wagesDf.shape"
   ]
  },
  {
   "cell_type": "code",
   "execution_count": null,
   "metadata": {
    "colab": {
     "base_uri": "https://localhost:8080/"
    },
    "id": "TJz1hDHvZLJ8",
    "outputId": "8bfddf95-43ba-492f-ecd8-1540a4653544"
   },
   "outputs": [],
   "source": [
    "from sklearn.model_selection import train_test_split\n",
    "# Split the data into train and test sets\n",
    "trainSet, testSet = train_test_split(wagesDf, test_size=0.15, random_state=800)\n",
    "# trainSet, testSet = train_test_split(wagesDf, test_size=0.15)\n",
    "\n",
    "trainSet.head(), trainSet.shape"
   ]
  },
  {
   "cell_type": "code",
   "execution_count": null,
   "metadata": {
    "colab": {
     "base_uri": "https://localhost:8080/"
    },
    "id": "nrMuBOJqZeAz",
    "outputId": "d73d7fff-ec53-4cdb-97f1-10556dfffa03"
   },
   "outputs": [],
   "source": [
    "wagesDf.shape, trainSet.shape, testSet.shape"
   ]
  },
  {
   "cell_type": "code",
   "execution_count": null,
   "metadata": {
    "colab": {
     "base_uri": "https://localhost:8080/"
    },
    "id": "age5UP_tZvAJ",
    "outputId": "9d8f6b97-c56e-42df-ef85-a0f5cfc2e7d2"
   },
   "outputs": [],
   "source": [
    "trainModel = sm.OLS(\n",
    "  trainSet[\"Wage\"],\n",
    "  wageModel3Transformer(trainSet)\n",
    ")\n",
    "trainModelFit = trainModel.fit()\n",
    "print(trainModelFit.summary())"
   ]
  },
  {
   "cell_type": "code",
   "execution_count": null,
   "metadata": {
    "id": "4IQWm6sAZ49v"
   },
   "outputs": [],
   "source": [
    "print(wageModel3Fit.summary())"
   ]
  },
  {
   "cell_type": "code",
   "execution_count": null,
   "metadata": {
    "colab": {
     "base_uri": "https://localhost:8080/",
     "height": 425
    },
    "id": "iDMK9vMyaKcb",
    "outputId": "f7a3e954-1ad8-46e7-9cdf-06e2dd21dcd2"
   },
   "outputs": [],
   "source": [
    "predictedTest = trainModelFit.predict(wageModel3Transformer(testSet))\n",
    "testSet['predictedTest'] = predictedTest\n",
    "testSet"
   ]
  },
  {
   "cell_type": "code",
   "execution_count": null,
   "metadata": {
    "id": "eRBHphDvakJD"
   },
   "outputs": [],
   "source": [
    "testSet['error']  = testSet['Wage'] - testSet['predictedTest']\n",
    "testSet"
   ]
  },
  {
   "cell_type": "code",
   "execution_count": null,
   "metadata": {
    "id": "OB2czTPPaydk"
   },
   "outputs": [],
   "source": [
    "# Plot errors\n",
    "plt.scatter(range(len(testSet['error'])), testSet['error'])\n",
    "plt.axhline(y=0, color='r', linestyle='-')\n",
    "plt.xlabel('Index')\n",
    "plt.ylabel('Error')\n",
    "plt.title('Error Plot')\n",
    "plt.show()\n"
   ]
  },
  {
   "cell_type": "code",
   "execution_count": null,
   "metadata": {
    "id": "eQLAKa7ma8FF"
   },
   "outputs": [],
   "source": [
    "from sklearn.metrics import mean_squared_error\n",
    "# Calculate RMSE\n",
    "rmse = np.sqrt(mean_squared_error(testSet['Wage'], testSet['predictedTest']))\n",
    "print(\"RMSE:\", rmse)"
   ]
  },
  {
   "cell_type": "code",
   "execution_count": null,
   "metadata": {
    "id": "1vyO_1khbMJH"
   },
   "outputs": [],
   "source": [
    "# RMSE with respect to mean of train set wage\n",
    "meanTrainWage = np.mean(testSet['Wage'])\n",
    "rmseMean = np.sqrt(mean_squared_error(testSet['Wage'], [meanTrainWage] * len(testSet['Wage'])))\n",
    "print(\"RMSE with respect to mean of train set wage:\", rmseMean)"
   ]
  },
  {
   "cell_type": "markdown",
   "metadata": {
    "id": "GfVS5gDcZJ2L"
   },
   "source": []
  },
  {
   "cell_type": "code",
   "execution_count": null,
   "metadata": {},
   "outputs": [],
   "source": [
    "def wageModel5Transformer(dataForTransfer = None):\n",
    "    import pandas as pd\n",
    "    import statsmodels.api as sm\n",
    "    if isinstance(dataForTransfer, pd.DataFrame):\n",
    "        df = dataForTransfer.copy()\n",
    "    else:\n",
    "        df = pd.DataFrame(dataForTransfer)\n",
    "    df['agePower2'] = df.apply(lambda row: row['Age'] * row['Age'], axis=1)\n",
    "    dfTransformer = sm.add_constant(df[['Educ','Age', 'agePower2']],has_constant='add')\n",
    "    return dfTransformer"
   ]
  },
  {
   "cell_type": "code",
   "execution_count": null,
   "metadata": {
    "id": "sInRkJsaCGW0"
   },
   "outputs": [],
   "source": [
    "# Lets include Education\n",
    "trainModel2 = sm.OLS(\n",
    "  trainSet[\"Wage\"],\n",
    "  wageModel5Transformer(trainSet)\n",
    ")\n",
    "trainModel2Fit = trainModel2.fit()\n",
    "print(trainModel2Fit.summary())"
   ]
  },
  {
   "cell_type": "code",
   "execution_count": null,
   "metadata": {
    "id": "RIJE5VocCWXY"
   },
   "outputs": [],
   "source": [
    "predictedTest2 = trainModel2Fit.predict(wageModel5Transformer(testSet))\n",
    "testSet['predictedTest2'] = predictedTest2\n",
    "testSet['error2']  = testSet['Wage'] - testSet['predictedTest2']\n",
    "testSet\n"
   ]
  },
  {
   "cell_type": "code",
   "execution_count": null,
   "metadata": {
    "id": "_OuPA5wMCtAl"
   },
   "outputs": [],
   "source": [
    "# Plot errors\n",
    "plt.scatter(range(len(testSet['error'])), testSet['error'])\n",
    "plt.scatter(range(len(testSet['error2'])), testSet['error2'])\n",
    "plt.axhline(y=0, color='r', linestyle='-')\n",
    "plt.xlabel('Index')\n",
    "plt.ylabel('Error')\n",
    "plt.title('Error Plot')\n",
    "plt.show()\n"
   ]
  },
  {
   "cell_type": "code",
   "execution_count": null,
   "metadata": {
    "id": "F7rufvHzC6o1"
   },
   "outputs": [],
   "source": [
    "rmse2 = np.sqrt(mean_squared_error(testSet['Wage'], testSet['predictedTest2']))\n",
    "print(\"RMSE:\", rmse)\n",
    "print(\"RMSE2:\", rmse2)"
   ]
  },
  {
   "cell_type": "code",
   "execution_count": null,
   "metadata": {
    "id": "9dljGpMDDE_O"
   },
   "outputs": [],
   "source": [
    "print(\"RMSE with respect to mean of train set wage:\", rmseMean)"
   ]
  },
  {
   "cell_type": "code",
   "execution_count": null,
   "metadata": {},
   "outputs": [],
   "source": [
    "wage1SampleData = {\n",
    "    \"Educ\": [12],\n",
    "    \"Age\": [76]\n",
    "}"
   ]
  },
  {
   "cell_type": "code",
   "execution_count": null,
   "metadata": {},
   "outputs": [],
   "source": [
    "def generalRegressionPredictor(self, transformedData):\n",
    "    return self.predict(transformedData)"
   ]
  },
  {
   "cell_type": "code",
   "execution_count": null,
   "metadata": {},
   "outputs": [],
   "source": [
    "trainModel2Fit.transformer = wageModel5Transformer\n",
    "trainModel2Fit.mainPredictor = partial(generalRegressionPredictor, trainModel2Fit)\n",
    "registerAJrjModel(\n",
    "    trainModel2Fit,\n",
    "    {\n",
    "        \"modelName\":f\"taoyu_ma__to_predictModelBest\",\n",
    "        \"version\":\"1.0.1\",\n",
    "        \"params\": trainModel2Fit.params.to_dict(),\n",
    "        \"score\": -1 * rmse2,\n",
    "        \"modelLibraray\": 'sm.OLS',\n",
    "        \"libraryMetadata\": {\n",
    "            \"pvalues\": trainModel2Fit.pvalues.to_dict(),\n",
    "            \"r_squared\": float(trainModel2Fit.rsquared),\n",
    "            \"adj_r_squared\": float(trainModel2Fit.rsquared_adj)\n",
    "        },\n",
    "    \n",
    "        \"sampleData\": {\n",
    "            \"dataForTransfer\": wage1SampleData\n",
    "        }\n",
    "    }\n",
    ")"
   ]
  },
  {
   "cell_type": "markdown",
   "metadata": {
    "id": "JZWdvpAyGOvr"
   },
   "source": [
    "# K-Fold Cross validation"
   ]
  },
  {
   "cell_type": "code",
   "execution_count": null,
   "metadata": {
    "id": "axfSIZSrGODF"
   },
   "outputs": [],
   "source": [
    "from sklearn.model_selection import KFold"
   ]
  },
  {
   "cell_type": "code",
   "execution_count": null,
   "metadata": {
    "id": "koiuVlcKGWxp"
   },
   "outputs": [],
   "source": [
    "# Initialize KFold\n",
    "kf = KFold(n_splits=5, shuffle=True, random_state=55)\n"
   ]
  },
  {
   "cell_type": "code",
   "execution_count": null,
   "metadata": {
    "id": "ZlKyoUVrG27y"
   },
   "outputs": [],
   "source": [
    "check = kf.split(wagesDf)\n",
    "check\n",
    "experiment = 1\n",
    "# Loop through each fold\n",
    "# Initialize variables to store results\n",
    "bestModel = None\n",
    "bestMse = 100000\n",
    "mseScores = []\n",
    "meanMseScores = []\n",
    "\n",
    "for train_index, val_index in check:\n",
    "    # Split the data\n",
    "    trainSet, valSet = wagesDf.iloc[train_index], wagesDf.iloc[val_index]\n",
    "\n",
    "    # Fit the model\n",
    "    trainModel = sm.OLS(trainSet[\"Wage\"], wageModel5Transformer(trainSet))\n",
    "    trainModelFit = trainModel.fit()\n",
    "\n",
    "    # Predict on the validation set\n",
    "    val_predictions = trainModelFit.predict(wageModel5Transformer(valSet))\n",
    "\n",
    "    # Calculate the mean squared error\n",
    "    mse = mean_squared_error(valSet[\"Wage\"], val_predictions)\n",
    "    meanMse = mean_squared_error(valSet[\"Wage\"], [np.mean(valSet[\"Wage\"])] * len(valSet[\"Wage\"]))\n",
    "    mseScores.append(mse)\n",
    "    meanMseScores.append(meanMse)\n",
    "    if mse < bestMse:\n",
    "        bestMse = mse\n",
    "        bestModel = trainModelFit\n",
    "\n",
    "    # Print summary for each fold (optional)\n",
    "    print(f'expr={experiment}')\n",
    "    experiment = experiment +1\n",
    "    print(trainModelFit.summary())"
   ]
  },
  {
   "cell_type": "code",
   "execution_count": null,
   "metadata": {
    "id": "z2R-1rXRHjGO"
   },
   "outputs": [],
   "source": [
    "mseScores,meanMseScores"
   ]
  },
  {
   "cell_type": "code",
   "execution_count": null,
   "metadata": {
    "id": "-qZTt_tCJqha"
   },
   "outputs": [],
   "source": []
  },
  {
   "cell_type": "code",
   "execution_count": null,
   "metadata": {
    "id": "mCPzVffBJjaG"
   },
   "outputs": [],
   "source": [
    "rmseScores = np.sqrt(mseScores)\n",
    "rmeanMseScores = np.sqrt(meanMseScores)\n",
    "rmseScores,rmeanMseScores"
   ]
  },
  {
   "cell_type": "code",
   "execution_count": null,
   "metadata": {
    "id": "7NCXJ2WhHeWA"
   },
   "outputs": [],
   "source": [
    "# Calculate average MSE\n",
    "averageMse = sum(mseScores) / len(mseScores)\n",
    "averageMseMean = sum(meanMseScores) / len(mseScores)\n",
    "print(f\"Average MSE across all folds: {averageMse}\")\n",
    "print(f\"Average MSE Mean across all folds: {averageMseMean}\")\n",
    "print(f\"Average RMSE across all folds: {pow(averageMse, 0.5)}\")\n",
    "print(f\"Average RMSE Mean across all folds: {pow(averageMseMean, 0.5)}\")"
   ]
  },
  {
   "cell_type": "code",
   "execution_count": null,
   "metadata": {},
   "outputs": [],
   "source": []
  },
  {
   "cell_type": "code",
   "execution_count": null,
   "metadata": {},
   "outputs": [],
   "source": [
    "bestModel.transformer = wageModel5Transformer\n",
    "bestModel.mainPredictor = partial(generalRegressionPredictor, bestModel)\n",
    "registerAJrjModel(\n",
    "    bestModel,\n",
    "    {\n",
    "        \"modelName\":f\"taoyu_ma__to_predictModelBestCrossValidation\",\n",
    "        \"version\":\"1.0.1\",\n",
    "        \"params\": bestModel.params.to_dict(),\n",
    "        \"score\": -1 * bestMse,\n",
    "        \"modelLibraray\": 'sm.OLS',\n",
    "        \"libraryMetadata\": {\n",
    "            \"pvalues\": bestModel.pvalues.to_dict(),\n",
    "            \"r_squared\": float(bestModel.rsquared),\n",
    "            \"adj_r_squared\": float(bestModel.rsquared_adj)\n",
    "        },\n",
    "    \n",
    "        \"sampleData\": {\n",
    "            \"dataForTransfer\": wage1SampleData\n",
    "        }\n",
    "    }\n",
    ")"
   ]
  },
  {
   "cell_type": "code",
   "execution_count": null,
   "metadata": {},
   "outputs": [],
   "source": []
  }
 ],
 "metadata": {
  "colab": {
   "provenance": []
  },
  "kernelspec": {
   "display_name": "Python 3 (ipykernel)",
   "language": "python",
   "name": "python3"
  },
  "language_info": {
   "codemirror_mode": {
    "name": "ipython",
    "version": 3
   },
   "file_extension": ".py",
   "mimetype": "text/x-python",
   "name": "python",
   "nbconvert_exporter": "python",
   "pygments_lexer": "ipython3",
   "version": "3.13.0"
  }
 },
 "nbformat": 4,
 "nbformat_minor": 4
}
